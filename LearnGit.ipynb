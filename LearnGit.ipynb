{
 "cells": [
  {
   "cell_type": "markdown",
   "metadata": {},
   "source": [
    "- ## Git  \n",
    "Git 新建仓库： https://jingyan.baidu.com/article/fa4125ac1ac52528ad70927d.html\n",
    ">  打开Git Bash \n",
    "  -->>输入``vim test.txt`` -->>按下``i``变成插入 -->>按下``esc`` -->>按住``shift``输入``:``出现``:``-->>输入``wq``退出  \n",
    "  输入``cat test.txt``显示文件内容看有没有成功保存  \n",
    "  输入``ll -ah``查看当前``Repository``本地仓库操作"
   ]
  },
  {
   "cell_type": "markdown",
   "metadata": {},
   "source": [
    "-  ``git add test.txt`` 提交文件从``workspace``到暂存区``Index``"
   ]
  },
  {
   "cell_type": "markdown",
   "metadata": {},
   "source": [
    "- ``git commit -m\"新增test.txt文件\"``提交文件进入本地仓库``Repository``   \n",
    "其中使用``-m\" \"``显示本次操作的名称"
   ]
  },
  {
   "cell_type": "markdown",
   "metadata": {},
   "source": [
    "- ## 提交到远程仓库"
   ]
  },
  {
   "cell_type": "markdown",
   "metadata": {},
   "source": [
    "- ### 设置Github账号  \n",
    "  注册github账号  \n",
    "  设置SSH Keys，在``Git bash``中输入``ssh-keygen -t rsa -C \"youremail@exaple.com\" ``   \n",
    "  在``/c/Users/10109/.ssh/id_rsa.pub``中，将``str``复制\n",
    "  在github settings页面设置SSH Keys  \n",
    "  Github支持设置多个SSH Key。\n",
    "- ### 添加一个新的 ``Repository``  \n",
    "  ``git remote add origin +'SSH地址'``  \n",
    "  ``git push -u origin master``上传成功，关联成功"
   ]
  },
  {
   "cell_type": "markdown",
   "metadata": {},
   "source": [
    "![Git工作原理.JPG](Git工作原理.JPG)"
   ]
  },
  {
   "cell_type": "markdown",
   "metadata": {},
   "source": [
    "- ## 版本信息  \n",
    "  -->> 输入``git status``显示版本信息"
   ]
  },
  {
   "cell_type": "markdown",
   "metadata": {},
   "source": [
    "![Git文件状态.JPG](Git文件状态.JPG)"
   ]
  },
  {
   "cell_type": "markdown",
   "metadata": {},
   "source": [
    "- ## 基本操作"
   ]
  },
  {
   "cell_type": "markdown",
   "metadata": {},
   "source": [
    "![Git基本操作.jpg](Git基本操作.jpg)"
   ]
  },
  {
   "cell_type": "markdown",
   "metadata": {},
   "source": [
    "- ## 回退操作(commit后的操作)  \n",
    "使用``git reset –-hard HEAD^ ``回滚至上个版本或指定commit id。  \n",
    "``HEAD``表示一个指针以指向 ``^``-->>上个版本  \n",
    "穿梭前，用``git log``可以查看提交历史，以便确定要回退到哪个版本。\n",
    "\n",
    "\n",
    "  \n",
    "- ## 重返未来  \n",
    "   使用``git log``查看日志  \n",
    "    \n",
    "   要重返未来，用 ``git reflog`` 查看命令历史，以便确定要回到未来的哪个版本。\n",
    "\n",
    "   ``git reset --hard HEAD@{1}``返回``1`` 版本\n"
   ]
  },
  {
   "cell_type": "markdown",
   "metadata": {},
   "source": [
    "# 分支管理\n",
    ">创建dev分支：``git checkout –b dev /git switch -c dev``  由master转入-b分支。命名为dev  \n",
    "查看分支： ``it branch``  \n",
    "分支内容提交：``git commit –a –m “update file“``  \n",
    "切换至master分支：``git checkout master/git switch master``  \n",
    "合并分支：``git merge dev``  \n",
    "删除dev分支：``git branch –d dev``  \n"
   ]
  },
  {
   "cell_type": "code",
   "execution_count": null,
   "metadata": {},
   "outputs": [],
   "source": []
  },
  {
   "cell_type": "markdown",
   "metadata": {},
   "source": [
    "-  # Git基本常用命令如下：  \n",
    "   ***mkdir：***         XX (创建一个空目录 XX指目录名)  \n",
    "   ***pwd：***          显示当前目录的路径。  \n",
    "   ***git init ：***         把当前的目录变成可以管理的git仓库，生成隐藏.git文件。  \n",
    "   ***git add XX ：***      把xx文件添加到暂存区去。  \n",
    "   ***git commit -m “XX” ：*** 提交文件 –m 后面的是注释。  \n",
    "   ***git status：***        查看仓库状态  \n",
    "   ***git diff  XX ：***     查看XX文件修改了那些内容  \n",
    "   ***git log ：***         查看历史记录  \n",
    "   ***git reset  --hard HEAD^ ：*** 或者 ``git reset  --hard HEAD~ ``回退到上一个版本       (如果想回退到100个版本，使用git reset --hard HEAD~100 )  \n",
    "   ***cat XX   ：***查看XX文件内容  \n",
    "   ***git reflog  ：***     查看历史记录的版本号id  \n",
    "   ***git checkout -- XX ：*** 把XX文件在工作区的修改全部撤销。  \n",
    "   ***git rm XX  ：***        删除XX文件  \n",
    "   ***git remote add origin https://github.com/RTplay/testgit.git：*** 关联一个远程库  \n",
    "   ***git push -u(第一次要用-u 以后不需要) origin master ：*** 把当前master分支推送到远程库  \n",
    "   ***git clone https://github.com/RTplay/testgit.git ：*** 从远程库中克隆  \n",
    "   ***git checkout -b dev ：*** 创建dev分支 并切换到dev分支上  \n",
    "   ***git branch  ：*** 查看当前所有的分支  \n",
    "   ***git checkout master ：*** 切换回master分支  \n",
    "   ***git merge dev    ：*** 在当前的分支上合并dev分支  \n",
    "   ***git branch -d dev ：*** 删除dev分支  \n",
    "   ***git branch name  ：*** 创建分支  \n",
    "   ***git stash ：*** 把当前的工作隐藏起来 等以后恢复现场后继续工作  \n",
    "   ***git stash list ：*** 查看所有被隐藏的文件列表  \n",
    "   ***git stash apply ：*** 恢复被隐藏的文件，但是内容不删除\n",
    "   ***git stash drop：***  删除文件  \n",
    "   ***git stash pop：*** 恢复文件的同时 也删除文件  \n",
    "   ***git remote：***  查看远程库的信息  \n",
    "   ***git remote -v ：*** 查看远程库的详细信息  \n",
    "   ***git push origin master  ：*** Git会把master分支推送到远程库对应的远程分支上\n"
   ]
  },
  {
   "cell_type": "code",
   "execution_count": null,
   "metadata": {},
   "outputs": [],
   "source": []
  }
 ],
 "metadata": {
  "kernelspec": {
   "display_name": "Python 3",
   "language": "python",
   "name": "python3"
  },
  "language_info": {
   "codemirror_mode": {
    "name": "ipython",
    "version": 3
   },
   "file_extension": ".py",
   "mimetype": "text/x-python",
   "name": "python",
   "nbconvert_exporter": "python",
   "pygments_lexer": "ipython3",
   "version": "3.7.4"
  }
 },
 "nbformat": 4,
 "nbformat_minor": 4
}
